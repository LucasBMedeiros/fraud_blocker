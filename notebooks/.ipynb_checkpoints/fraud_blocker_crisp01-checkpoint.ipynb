{
 "cells": [
  {
   "cell_type": "markdown",
   "id": "c0bdf695",
   "metadata": {},
   "source": [
    "# Definitions: Financial Transactions and Fraud"
   ]
  },
  {
   "cell_type": "markdown",
   "id": "aa7e9c96",
   "metadata": {},
   "source": [
    "### What is Fraud?\n",
    "* Fraud is an intentionally deceptive action designed to provide the perpetrator with an unlawful gain or to deny a right to a victim. In addition, it is a deliberate act (or failure to act) with the intention of obtaining an unauthorized benefit, either for oneself or for the institution, by using deception or false suggestions or suppression of truth or other unethical means, which are believed and relied upon by others. Depriving another person or the institution of a benefit to which he/she/it is entitled by using any of the means described above also constitutes fraud.\n",
    "\n",
    "* Types of fraud include tax fraud, credit card fraud, wire fraud, securities fraud, and bankruptcy fraud. Fraudulent activity can be carried out by one individual, multiple individuals or a business firm as a whole.\n",
    "\n",
    "* Both states and the federal government have laws that criminalize fraud, though fraudulent actions may not always result in a criminal trial. Government prosecutors often have substantial discretion in determining whether a case should go to trial and may pursue a settlement instead if this will result in a speedier and less costly resolution. If a fraud case goes to trial, the perpetrator may be convicted and sent to jail.\n",
    "\n",
    "### Types of Transactions\n",
    "* A financial transaction is an agreement, or communication, carried out between a buyer and a seller to exchange an asset for payment.\n",
    "\n",
    "* It involves a change in the status of the finances of two or more businesses or individuals. The buyer and seller are separate entities or objects, often involving the exchange of items of value, such as information, goods, services, and money. It is still a transaction if the goods are exchanged at one time, and the money at another. This is known as a two-part transaction: part one is giving the money, part two is receiving the goods.\n",
    "\n",
    "1) Cash Transactions (Cash-in and Cash-out): A cash transaction refers to a transaction which involves an immediate outflow of cash towards the purchase of any goods, services, or assets. Cash transaction can be consumer-oriented or business-oriented.\n",
    "\n",
    "A cash transaction stands in contrast to other modes of payment, such as credit transactions in a business involving bills receivable. Similarly, a cash transaction is also different from credit card transactions.\n",
    "\n",
    "Cash transactions are different from transactions which involve a delay in delivery of the goods or delay in payment. Such transactions include credit sale, forward contract, futures contract, and other margin transactions.\n",
    "\n",
    "2) Debit: A debit card payment is the same as an immediate payment of cash as the amount gets instantly debited from your bank account.\n",
    "\n",
    "Debit cards allow bank customers to spend money by drawing on existing funds they have already deposited at the bank, such as from a checking account. A debit transaction using your PIN (personal identification number), is an online transaction completed in real time. When you complete a debit transaction, you authorize the purchase with your PIN and the merchant communicates immediately with your bank or credit union, causing the funds to be transferred in real time.\n",
    "\n",
    "The first debit card may have hit the market as early as 1966 when the Bank of Delaware piloted the idea.\n",
    "\n",
    "3) Payment: An act initiated by the payer or payee, or on behalf of the payer, of placing, transferring or withdrawing funds, irrespective of any underlying obligations between the payer and payee.\n",
    "\n",
    "4) A transfer involves the movement of assets, monetary funds, and/or ownership rights from one account to another. A transfer may require an exchange of funds when it involves a change in ownership, such as when an investor sells a real estate holding. In this case, there is a transfer of title from the seller to the buyer and a simultaneous transfer of funds, equal to the negotiated price, from the buyer to the seller.\n",
    "\n",
    "The term transfer may also refer to the movement of an account from one bank or brokerage to another.\n",
    "\n",
    "### Key Facts \n",
    "* Fraud involves **deceit** with the intention to illegally or unethically gain at the expense of another.\n",
    "* In **finance**, fraud can take on many forms including making false insurance claims, cooking the books, pump & dump schemes, and identity theft leading to unauthorized purchases.\n",
    "* Fraud **costs the economy billions of dollars** each and every year, and those who are caught are subject to fines and jail time.\n",
    "* **Consumer fraud** occurs when a person suffers from a financial loss involving the use of deceptive, unfair, or false business practices.\n",
    "* With **identity theft**, thieves steal your personal information, assume your identity, open credit cards, bank accounts, and charge purchases.\n",
    "* **Mortgage scams** are aimed at distressed homeowners to get money from them.\n",
    "* **Credit and debit card fraud** is when someone takes your information off the card and makes purchases or offers to lower your credit card interest rate.\n",
    "* **Fake charities** and lotteries prey on peoples' sympathy or greed.\n",
    "* **Debt collection fraud** tries to collect on unpaid bills whether they are yours or not.\n",
    "* **COVID-19 scams** are a new type of fraud designed to prey on your fear or financial need.\n",
    "\n",
    "### Legal Considerations\n",
    "* While the government may decide that a case of fraud can be settled outside of criminal proceedings, non-governmental parties that claim injury may pursue a civil case. The victims of fraud may sue the perpetrator to have funds recovered, or, in a case where no monetary loss occurred, may sue to reestablish the victim’s rights.\n",
    "\n",
    "* Proving that fraud has taken place requires the perpetrator to have committed specific acts. First, the perpetrator has to provide a false statement as a material fact. Second, the perpetrator had to have known that the statement was untrue. Third, the perpetrator had to have intended to deceive the victim. Fourth, the victim has to demonstrate that it relied on the false statement. And fifth, the victim had to have suffered damages as a result of acting on the intentionally false statement.\n",
    "\n",
    "### Consequences of Financial Fraud\n",
    "* First, serving as a signal of dishonesty, financial fraud makes customers and suppliers cast doubt on a firm’s commitments in the product market, which will weaken the incentives for customers and suppliers to sign contracts with the company. Second, financial fraud directly affects a firm’s financing abilities and financing costs, as well as the adjustments of corporate governance (such as the departure of executives). This leads to great difficulties and uncertainties in a company’s production and operation activities. Thus, it is impossible for fraud firms to fulfil their existing commitments (or future commitments) (Cornell & Shapiro, 1987).\n",
    "\n",
    "* According to Infosecurity Magazine, fraud cost the global economy £3.2 trillion in 2018. For some businesses, losses to fraud reach more than 10% of their total spending. Such massive losses push companies to search for new solutions to prevent, detect, and eliminate fraud.\n",
    "\n",
    "* Fraud can have a devastating impact on a business. In 2001, a massive corporate fraud was uncovered at Enron, a U.S.-based energy company. Executives used a variety of techniques to disguise the company’s financial health, including the deliberate obfuscation of revenue and misrepresentation of earnings. After the fraud was uncovered, shareholders saw share prices plummet from around $90 to less than $1 in a little over a year. Company employees had their equity wiped out and lost their jobs after Enron declared bankruptcy. The Enron scandal was a major driver behind the regulations found in the Sarbanes-Oxley Act passed in 2002.\n",
    "\n",
    "* Compared with the control firms, firms engaging in financial fraud exhibit a decline in sales revenue by 11.9–17.1% and a decrease in their gross profit margi on sales by 2.4–2.8% in the three years after punishment. Furthermore, sales revenue from the top five large customers falls 43.9–55.1% in the post-punishment period, while sales revenue from small customers does not decline significantly.\n",
    "\n",
    "### References\n",
    "https://www.investopedia.com/terms/f/fraud.asp\n",
    "\n",
    "https://www.usi.edu/internalaudit/what-is-fraud/\n",
    "\n",
    "https://en.wikipedia.org/wiki/Financial_transaction\n",
    "\n",
    "https://cleartax.in/g/terms/cash-transaction\n",
    "\n",
    "https://www.investopedia.com/terms/d/debit.asp\n",
    "\n",
    "https://www.southpointfinancial.com/whats-difference-debit-credit/\n",
    "\n",
    "https://www.handbook.fca.org.uk/handbook/glossary/G3490p.html\n",
    "\n",
    "https://www.investopedia.com/terms/t/transfer.asp\n",
    "\n",
    "https://www.investopedia.com/financial-edge/0512/the-most-common-types-of-consumer-fraud.aspx\n",
    "\n",
    "https://www.intellias.com/how-to-use-machine-learning-in-fraud-detection/\n",
    "\n",
    "https://www.infosecurity-magazine.com/news/global-fraud-hits-32-trillion/\n",
    "\n",
    "https://www.tandfonline.com/doi/full/10.1080/21697213.2018.1480005\n",
    "\n",
    "https://sejaumdatascientist.com/crie-uma-solucao-para-fraudes-em-transacoes-financeiras-usando-machine-learning/"
   ]
  },
  {
   "cell_type": "markdown",
   "id": "8deccb38",
   "metadata": {},
   "source": [
    "# Kaggle"
   ]
  },
  {
   "cell_type": "markdown",
   "id": "d55184c1",
   "metadata": {},
   "source": [
    "Context\n",
    "There is a lack of public available datasets on financial services and specially in the emerging mobile money transactions domain. Financial datasets are important to many researchers and in particular to us performing research in the domain of fraud detection. Part of the problem is the intrinsically private nature of financial transactions, that leads to no publicly available datasets.\n",
    "\n",
    "We present a synthetic dataset generated using the simulator called PaySim as an approach to such a problem. PaySim uses aggregated data from the private dataset to generate a synthetic dataset that resembles the normal operation of transactions and injects malicious behaviour to later evaluate the performance of fraud detection methods.\n",
    "\n",
    "Content\n",
    "PaySim simulates mobile money transactions based on a sample of real transactions extracted from one month of financial logs from a mobile money service implemented in an African country. The original logs were provided by a multinational company, who is the provider of the mobile financial service which is currently running in more than 14 countries all around the world.\n",
    "\n",
    "This synthetic dataset is scaled down 1/4 of the original dataset and it is created just for Kaggle.\n",
    "\n",
    "Headers\n",
    "This is a sample of 1 row with headers explanation:\n",
    "\n",
    "1,PAYMENT,1060.31,C429214117,1089.0,28.69,M1591654462,0.0,0.0,0,0\n",
    "\n",
    "step - maps a unit of time in the real world. In this case 1 step is 1 hour of time. Total steps 744 (30 days simulation).\n",
    "\n",
    "type - CASH-IN, CASH-OUT, DEBIT, PAYMENT and TRANSFER.\n",
    "\n",
    "amount -\n",
    "amount of the transaction in local currency.\n",
    "\n",
    "nameOrig - customer who started the transaction\n",
    "\n",
    "oldbalanceOrg - initial balance before the transaction\n",
    "\n",
    "newbalanceOrig - new balance after the transaction\n",
    "\n",
    "nameDest - customer who is the recipient of the transaction\n",
    "\n",
    "oldbalanceDest - initial balance recipient before the transaction. Note that there is not information for customers that start with M (Merchants).\n",
    "\n",
    "newbalanceDest - new balance recipient after the transaction. Note that there is not information for customers that start with M (Merchants).\n",
    "\n",
    "isFraud - This is the transactions made by the fraudulent agents inside the simulation. In this specific dataset the fraudulent behavior of the agents aims to profit by taking control or customers accounts and try to empty the funds by transferring to another account and then cashing out of the system.\n",
    "\n",
    "isFlaggedFraud - The business model aims to control massive transfers from one account to another and flags illegal attempts. An illegal attempt in this dataset is an attempt to transfer more than 200.000 in a single transaction.\n",
    "\n",
    "Past Research\n",
    "There are 5 similar files that contain the run of 5 different scenarios. These files are better explained at my PhD thesis chapter 7 (PhD Thesis Available here http://urn.kb.se/resolve?urn=urn:nbn:se:bth-12932).\n",
    "\n",
    "We ran PaySim several times using random seeds for 744 steps, representing each hour of one month of real time, which matches the original logs. Each run took around 45 minutes on an i7 intel processor with 16GB of RAM. The final result of a run contains approximately 24 million of financial records divided into the 5 types of categories: CASH-IN, CASH-OUT, DEBIT, PAYMENT and TRANSFER.\n",
    "\n",
    "Acknowledgements\n",
    "This work is part of the research project ”Scalable resource-efficient systems for big data analytics” funded\n",
    "by the Knowledge Foundation (grant: 20140032) in Sweden.\n",
    "\n",
    "Please refer to this dataset using the following citations:\n",
    "\n",
    "PaySim first paper of the simulator:\n",
    "\n",
    "E. A. Lopez-Rojas , A. Elmir, and S. Axelsson. \"PaySim: A financial mobile money simulator for fraud detection\". In: The 28th European Modeling and Simulation Symposium-EMSS, Larnaca, Cyprus. 2016"
   ]
  },
  {
   "cell_type": "markdown",
   "id": "f4ef15e5",
   "metadata": {},
   "source": [
    "# Business Challange, Output and Tasks"
   ]
  },
  {
   "cell_type": "markdown",
   "id": "e5f03ff1",
   "metadata": {},
   "source": [
    "### The Blocker Fraud Company Expansion Strategy\n",
    "\n",
    "- Financial transactions' fraud detection specialized company.\n",
    "- The Blocker Fraud service ensures fraudulent transactions block.\n",
    "- Business Model: service's performance monetization.\n",
    "\n",
    "1. The company receives 25% of each transaction value truly detected as fraud.\n",
    "2. The company receives 5% of each transaction value detected as fraud, however the transaction is legitimate.\n",
    "3. The company gives back 100% of the value for the customer in each transaction detected as legitimate, however the transaction is actually a fraud.\n",
    "\n",
    "### Goals and Tasks\n",
    "\n",
    "- Create a model with high accuracy and precision with respect to transactions' fraud detection.\n",
    "\n",
    "- What is the model's precision and accuracy?\n",
    "- What is the model's reliability with respect to transactions' classification as legitimate or fraudulent?\n",
    "- What is the company's forecasted revenue if the model classifies 100% of the transactions?\n",
    "- What is the company's forecasted loss in case of model's failure?\n",
    "- What is the Blocker Fraud Company forecasted profit using the model?\n",
    "\n",
    "### Tasks and Deliveries\n",
    "\n",
    "- Deployed model with API access. The API must inform \"Fraud\" or \"Legitimate\" when the transaction is inputed.\n",
    "- A Readme about how to use the tool.\n",
    "- Model performance and results report with respect to profit and loss. The following questions must be answered:\n",
    "\n",
    "- Answer to:\n",
    "    - What is the model's precision and accuracy?\n",
    "    - What is the model's reliability with respect to transactions' classification as legitimate or fraudulent?\n",
    "    - What is the company's forecasted revenue if the model classifies 100% of the transactions?\n",
    "    - What is the company's forecasted loss in case of model's failure?\n",
    "    - What is the Blocker Fraud Company forecasted profit using the model?"
   ]
  },
  {
   "cell_type": "markdown",
   "id": "8527bb34",
   "metadata": {},
   "source": [
    "# 0. Imports"
   ]
  },
  {
   "cell_type": "markdown",
   "id": "922f9065",
   "metadata": {},
   "source": [
    "## 0.1. Libraries"
   ]
  },
  {
   "cell_type": "code",
   "execution_count": 1,
   "id": "ab8fedaf",
   "metadata": {
    "ExecuteTime": {
     "end_time": "2021-08-11T16:56:54.806277Z",
     "start_time": "2021-08-11T16:56:47.346937Z"
    }
   },
   "outputs": [],
   "source": [
    "# jupyter core\n",
    "from IPython.core.display      import display, HTML\n",
    "from IPython.display           import Image\n",
    "\n",
    "# data manipulation\n",
    "import inflection\n",
    "import datetime\n",
    "import math\n",
    "import random\n",
    "import numpy as np\n",
    "import pandas as pd\n",
    "from scipy import stats as ss\n",
    "\n",
    "# PySpark for data manipulation\n",
    "import pyspark\n",
    "from pyspark.sql import SparkSession\n",
    "from pyspark.sql.types import StructField, StringType, ShortType, DoubleType, StructType, IntegerType\n",
    "from pyspark.sql.functions import format_number, skewness, kurtosis, col, when, isnan, count\n",
    "\n",
    "# EDA\n",
    "import seaborn as sns\n",
    "import matplotlib.pyplot as plt"
   ]
  },
  {
   "cell_type": "markdown",
   "id": "a5e284df",
   "metadata": {},
   "source": [
    "## 0.2. Functions"
   ]
  },
  {
   "cell_type": "code",
   "execution_count": 2,
   "id": "47d5de64",
   "metadata": {
    "ExecuteTime": {
     "end_time": "2021-08-11T16:56:55.275249Z",
     "start_time": "2021-08-11T16:56:54.994889Z"
    }
   },
   "outputs": [],
   "source": [
    "# jupyter setup\n",
    "def jupyter_settings():\n",
    "    \n",
    "    # jupyter core settings\n",
    "    display(HTML(\"<style>.container { width:100% !important; }</style>\"))\n",
    "    !pylab inline\n",
    "    \n",
    "    # pandas\n",
    "    pd.set_option('display.max_rows', 500)\n",
    "    pd.set_option('display.max_columns', 500)\n",
    "    pd.set_option('display.expand_frame_repr', False)\n",
    "    \n",
    "    # matplotlib\n",
    "    !matplotlib inline\n",
    "    plt.style.use('bmh')\n",
    "    plt.rcParams['figure.figsize'] = [35, 12]\n",
    "    plt.rcParams['font.size'] = 40\n",
    "    \n",
    "    # seaborn\n",
    "    sns.set()\n",
    "\n",
    "# descriptive analysis summary for numerical features\n",
    "def num_analysis(num_attributes):\n",
    "    # Cemtral tendency - mean, median\n",
    "    ct1 = pd.DataFrame(num_attributes.apply(np.mean)).T\n",
    "    ct2 = pd.DataFrame(num_attributes.apply(np.median)).T\n",
    "\n",
    "    # Dispersion - std, min, max, range, skew, kurtosis\n",
    "    d1 = pd.DataFrame(num_attributes.apply(np.std)).T\n",
    "    d2 = pd.DataFrame(num_attributes.apply(min)).T\n",
    "    d3 = pd.DataFrame(num_attributes.apply(max)).T\n",
    "    d4 = pd.DataFrame(num_attributes.apply(lambda x: x.max() - x.min())).T\n",
    "    d5 = pd.DataFrame(num_attributes.apply(lambda x: x.skew())).T\n",
    "    d6 = pd.DataFrame(num_attributes.apply(lambda x: x.kurtosis())).T\n",
    "\n",
    "    # concatenate\n",
    "    m = pd.concat([d2,d3,d4,ct1,ct2,d1,d5,d6]).T.reset_index()\n",
    "    m.columns = ['attributes','min','max','range','mean','median','std','skew','kurtosis',]\n",
    "    \n",
    "    # histogram\n",
    "    hist = num_attributes.hist(bins=30)\n",
    "    \n",
    "    return m\n",
    "\n",
    "    return hist\n",
    "\n",
    "def cramer_v (x,y):\n",
    "    cm = pd.crosstab(x, y).values\n",
    "    n = cm.sum()\n",
    "    r, k = cm.shape\n",
    "    \n",
    "    chi2 = ss.chi2_contingency(cm)[0]\n",
    "    chi2corr = max(0, chi2 - (k-1)*(r-1)/(n-1))\n",
    "    \n",
    "    kcorr = k - (k-1)**2/(n-1)\n",
    "    rcorr = r - (r-1)**2/(n-1)\n",
    "    \n",
    "    return np.sqrt((chi2corr/n) / (min(kcorr-1,rcorr-1)))\n"
   ]
  },
  {
   "cell_type": "code",
   "execution_count": 3,
   "id": "d3645987",
   "metadata": {
    "ExecuteTime": {
     "end_time": "2021-08-11T16:56:59.250551Z",
     "start_time": "2021-08-11T16:56:55.408097Z"
    }
   },
   "outputs": [
    {
     "data": {
      "text/html": [
       "<style>.container { width:100% !important; }</style>"
      ],
      "text/plain": [
       "<IPython.core.display.HTML object>"
      ]
     },
     "metadata": {},
     "output_type": "display_data"
    },
    {
     "name": "stdout",
     "output_type": "stream",
     "text": [
      "/bin/bash: pylab: command not found\n",
      "/bin/bash: matplotlib: command not found\n"
     ]
    }
   ],
   "source": [
    "jupyter_settings()"
   ]
  },
  {
   "cell_type": "markdown",
   "id": "1714d419",
   "metadata": {},
   "source": [
    "## 0.3. Data (with PySpark)"
   ]
  },
  {
   "cell_type": "code",
   "execution_count": 28,
   "id": "5982d891",
   "metadata": {
    "ExecuteTime": {
     "end_time": "2021-08-11T21:11:34.334094Z",
     "start_time": "2021-08-11T21:11:34.261421Z"
    }
   },
   "outputs": [],
   "source": [
    "# creates a SparkSession\n",
    "spark = SparkSession.builder\\\n",
    "                    .master('local')\\\n",
    "                    .appName('Fraud')\\\n",
    "                    .getOrCreate()\n",
    "\n",
    "# enable arrow-based columnar data transfers\n",
    "spark.conf.set('spark.sql.execution.arrow.pyspark.enable', 'true')"
   ]
  },
  {
   "cell_type": "code",
   "execution_count": 29,
   "id": "6688df53",
   "metadata": {
    "ExecuteTime": {
     "end_time": "2021-08-11T21:11:35.329125Z",
     "start_time": "2021-08-11T21:11:35.288386Z"
    }
   },
   "outputs": [],
   "source": [
    "# schema definition: field, type, nullabe or not\n",
    "data_schema = [StructField('step', ShortType(), True), \n",
    "              StructField('type', StringType(), True),\n",
    "              StructField('amount', DoubleType(), True), \n",
    "              StructField('nameOrig', StringType(), True),\n",
    "              StructField('oldbalanceOrg', DoubleType(), True), \n",
    "              StructField('newbalanceOrig', DoubleType(), True),\n",
    "              StructField('nameDest', StringType(), True), \n",
    "              StructField('oldbalanceDest', DoubleType(), True),\n",
    "              StructField('newbalanceDest', DoubleType(), True), \n",
    "              StructField('isFraud', ShortType(), True),\n",
    "              StructField('isFlaggedFraud', ShortType(), True)]\n",
    "\n",
    "# final structure\n",
    "final_struct = StructType(fields=data_schema)"
   ]
  },
  {
   "cell_type": "code",
   "execution_count": 8,
   "id": "52b99179",
   "metadata": {
    "ExecuteTime": {
     "end_time": "2021-08-11T18:03:12.340492Z",
     "start_time": "2021-08-11T18:03:02.942281Z"
    }
   },
   "outputs": [
    {
     "name": "stdout",
     "output_type": "stream",
     "text": [
      "root\n",
      " |-- step: short (nullable = true)\n",
      " |-- type: string (nullable = true)\n",
      " |-- amount: double (nullable = true)\n",
      " |-- nameOrig: string (nullable = true)\n",
      " |-- oldbalanceOrg: double (nullable = true)\n",
      " |-- newbalanceOrig: double (nullable = true)\n",
      " |-- nameDest: string (nullable = true)\n",
      " |-- oldbalanceDest: double (nullable = true)\n",
      " |-- newbalanceDest: double (nullable = true)\n",
      " |-- isFraud: short (nullable = true)\n",
      " |-- isFlaggedFraud: short (nullable = true)\n",
      "\n"
     ]
    }
   ],
   "source": [
    "# load dataset in spark\n",
    "df_spark = spark.read.csv('../data/raw/raw.csv', schema=final_struct, header=True)\n",
    "\n",
    "# display the schema to check dtypes\n",
    "df_spark.printSchema()"
   ]
  },
  {
   "cell_type": "code",
   "execution_count": 9,
   "id": "506b65e9",
   "metadata": {
    "ExecuteTime": {
     "end_time": "2021-08-11T18:03:27.203661Z",
     "start_time": "2021-08-11T18:03:16.519431Z"
    }
   },
   "outputs": [
    {
     "name": "stdout",
     "output_type": "stream",
     "text": [
      "+----+--------+--------+-----------+-------------+--------------+-----------+--------------+--------------+-------+--------------+\n",
      "|step|    type|  amount|   nameOrig|oldbalanceOrg|newbalanceOrig|   nameDest|oldbalanceDest|newbalanceDest|isFraud|isFlaggedFraud|\n",
      "+----+--------+--------+-----------+-------------+--------------+-----------+--------------+--------------+-------+--------------+\n",
      "|   1| PAYMENT| 9839.64|C1231006815|     170136.0|     160296.36|M1979787155|           0.0|           0.0|      0|             0|\n",
      "|   1| PAYMENT| 1864.28|C1666544295|      21249.0|      19384.72|M2044282225|           0.0|           0.0|      0|             0|\n",
      "|   1|TRANSFER|   181.0|C1305486145|        181.0|           0.0| C553264065|           0.0|           0.0|      1|             0|\n",
      "|   1|CASH_OUT|   181.0| C840083671|        181.0|           0.0|  C38997010|       21182.0|           0.0|      1|             0|\n",
      "|   1| PAYMENT|11668.14|C2048537720|      41554.0|      29885.86|M1230701703|           0.0|           0.0|      0|             0|\n",
      "|   1| PAYMENT| 7817.71|  C90045638|      53860.0|      46042.29| M573487274|           0.0|           0.0|      0|             0|\n",
      "|   1| PAYMENT| 7107.77| C154988899|     183195.0|     176087.23| M408069119|           0.0|           0.0|      0|             0|\n",
      "|   1| PAYMENT| 7861.64|C1912850431|    176087.23|     168225.59| M633326333|           0.0|           0.0|      0|             0|\n",
      "|   1| PAYMENT| 4024.36|C1265012928|       2671.0|           0.0|M1176932104|           0.0|           0.0|      0|             0|\n",
      "|   1|   DEBIT| 5337.77| C712410124|      41720.0|      36382.23| C195600860|       41898.0|      40348.79|      0|             0|\n",
      "+----+--------+--------+-----------+-------------+--------------+-----------+--------------+--------------+-------+--------------+\n",
      "only showing top 10 rows\n",
      "\n"
     ]
    }
   ],
   "source": [
    "df_spark.show(10)"
   ]
  },
  {
   "cell_type": "code",
   "execution_count": 10,
   "id": "92b1ebc0",
   "metadata": {
    "ExecuteTime": {
     "end_time": "2021-08-11T18:03:33.345741Z",
     "start_time": "2021-08-11T18:03:30.587601Z"
    }
   },
   "outputs": [],
   "source": [
    "df_spark = df_spark.withColumnRenamed('nameOrig', 'name_orig')\\\n",
    "                   .withColumnRenamed('oldbalanceOrg', 'oldbalance_org')\\\n",
    "                   .withColumnRenamed('newbalanceOrig', 'newbalance_orig')\\\n",
    "                   .withColumnRenamed('nameDest', 'name_dest')\\\n",
    "                   .withColumnRenamed('oldbalanceDest', 'oldbalance_dest')\\\n",
    "                   .withColumnRenamed('newbalanceDest', 'newbalance_dest')\\\n",
    "                   .withColumnRenamed('isFraud', 'is_fraud')\\\n",
    "                   .withColumnRenamed('isFlaggedFraud', 'is_flagged_fraud')"
   ]
  },
  {
   "cell_type": "code",
   "execution_count": 11,
   "id": "64387c8d",
   "metadata": {
    "ExecuteTime": {
     "end_time": "2021-08-11T18:03:34.309871Z",
     "start_time": "2021-08-11T18:03:34.291853Z"
    }
   },
   "outputs": [
    {
     "name": "stdout",
     "output_type": "stream",
     "text": [
      "['step', 'type', 'amount', 'name_orig', 'oldbalance_org', 'newbalance_orig', 'name_dest', 'oldbalance_dest', 'newbalance_dest', 'is_fraud', 'is_flagged_fraud']\n"
     ]
    }
   ],
   "source": [
    "print(df_spark.columns)"
   ]
  },
  {
   "cell_type": "code",
   "execution_count": 12,
   "id": "1441c9f7",
   "metadata": {
    "ExecuteTime": {
     "end_time": "2021-08-11T18:03:35.806204Z",
     "start_time": "2021-08-11T18:03:35.483706Z"
    }
   },
   "outputs": [],
   "source": [
    "# gets only the numerical columns\n",
    "df_summary_statistics = df_spark.select(['amount', 'oldbalance_org', 'newbalance_orig', 'oldbalance_dest', 'newbalance_dest'])"
   ]
  },
  {
   "cell_type": "code",
   "execution_count": 13,
   "id": "aff85952",
   "metadata": {
    "ExecuteTime": {
     "end_time": "2021-08-11T18:05:12.902148Z",
     "start_time": "2021-08-11T18:03:36.809660Z"
    }
   },
   "outputs": [
    {
     "name": "stdout",
     "output_type": "stream",
     "text": [
      "+-------+-----------------+-----------------+------------------+------------------+------------------+\n",
      "|summary|           amount|   oldbalance_org|   newbalance_orig|   oldbalance_dest|   newbalance_dest|\n",
      "+-------+-----------------+-----------------+------------------+------------------+------------------+\n",
      "|  count|          6362620|          6362620|           6362620|           6362620|           6362620|\n",
      "|   mean|179861.9035491287|833883.1040744764| 855113.6685785812|1100701.6665196533|1224996.3982019224|\n",
      "| stddev|603858.2314629209|2888242.673037527|2924048.5029542595|3399180.1129944525|3674128.9421196915|\n",
      "|    min|              0.0|              0.0|               0.0|               0.0|               0.0|\n",
      "|    max|    9.244551664E7|    5.958504037E7|     4.958504037E7|    3.5601588935E8|    3.5617927892E8|\n",
      "+-------+-----------------+-----------------+------------------+------------------+------------------+\n",
      "\n"
     ]
    }
   ],
   "source": [
    "df_summary_statistics.describe().show()"
   ]
  },
  {
   "cell_type": "code",
   "execution_count": 27,
   "id": "dad9fea1",
   "metadata": {
    "ExecuteTime": {
     "end_time": "2021-08-11T20:42:50.300881Z",
     "start_time": "2021-08-11T20:37:38.851675Z"
    }
   },
   "outputs": [
    {
     "data": {
      "text/plain": [
       "[13389.57, 74871.8, 208721.45]"
      ]
     },
     "execution_count": 27,
     "metadata": {},
     "output_type": "execute_result"
    }
   ],
   "source": [
    "# checks the Q1, Q2 (median) and Q3\n",
    "df_spark.stat.approxQuantile('amount', [0.25, 0.50, 0.75], 0)"
   ]
  },
  {
   "cell_type": "code",
   "execution_count": 15,
   "id": "a131dfd4",
   "metadata": {
    "ExecuteTime": {
     "end_time": "2021-08-11T18:22:31.335814Z",
     "start_time": "2021-08-11T18:18:58.914127Z"
    }
   },
   "outputs": [
    {
     "data": {
      "text/plain": [
       "[0.0, 14208.0, 107315.0]"
      ]
     },
     "execution_count": 15,
     "metadata": {},
     "output_type": "execute_result"
    }
   ],
   "source": [
    "# checks the Q1, Q2 (median) and Q3\n",
    "df_spark.stat.approxQuantile('oldbalance_org', [0.25, 0.50, 0.75], 0)"
   ]
  },
  {
   "cell_type": "code",
   "execution_count": 17,
   "id": "9ea8e78e",
   "metadata": {
    "ExecuteTime": {
     "end_time": "2021-08-11T18:31:29.671616Z",
     "start_time": "2021-08-11T18:27:55.382658Z"
    }
   },
   "outputs": [
    {
     "data": {
      "text/plain": [
       "[0.0, 0.0, 144258.41]"
      ]
     },
     "execution_count": 17,
     "metadata": {},
     "output_type": "execute_result"
    }
   ],
   "source": [
    "# checks the Q1, Q2 (median) and Q3\n",
    "df_spark.stat.approxQuantile('newbalance_orig', [0.25, 0.50, 0.75], 0)"
   ]
  },
  {
   "cell_type": "code",
   "execution_count": 18,
   "id": "5dc86d63",
   "metadata": {
    "ExecuteTime": {
     "end_time": "2021-08-11T18:34:57.555911Z",
     "start_time": "2021-08-11T18:31:40.433020Z"
    }
   },
   "outputs": [
    {
     "data": {
      "text/plain": [
       "[0.0, 132705.52, 943036.53]"
      ]
     },
     "execution_count": 18,
     "metadata": {},
     "output_type": "execute_result"
    }
   ],
   "source": [
    "# checks the Q1, Q2 (median) and Q3\n",
    "df_spark.stat.approxQuantile('oldbalance_dest', [0.25, 0.50, 0.75], 0)"
   ]
  },
  {
   "cell_type": "code",
   "execution_count": 19,
   "id": "74267c77",
   "metadata": {
    "ExecuteTime": {
     "end_time": "2021-08-11T18:38:55.045266Z",
     "start_time": "2021-08-11T18:35:39.985010Z"
    }
   },
   "outputs": [
    {
     "data": {
      "text/plain": [
       "[0.0, 214661.23, 1111909.16]"
      ]
     },
     "execution_count": 19,
     "metadata": {},
     "output_type": "execute_result"
    }
   ],
   "source": [
    "# checks the Q1, Q2 (median) and Q3\n",
    "df_spark.stat.approxQuantile('newbalance_dest', [0.25, 0.50, 0.75], 0)"
   ]
  },
  {
   "cell_type": "code",
   "execution_count": 20,
   "id": "f9aef8bf",
   "metadata": {
    "ExecuteTime": {
     "end_time": "2021-08-11T18:44:00.704716Z",
     "start_time": "2021-08-11T18:42:03.962553Z"
    }
   },
   "outputs": [
    {
     "name": "stdout",
     "output_type": "stream",
     "text": [
      "+------------------+--------------------+---------------------+---------------------+---------------------+\n",
      "|      skew: amount|skew: oldbalance_org|skew: newbalance_orig|skew: oldbalance_dest|skew: newbalance_dest|\n",
      "+------------------+--------------------+---------------------+---------------------+---------------------+\n",
      "|30.993942175610577|   5.249135183109044|    5.176882780698867|   19.921753219197374|   19.352297495316165|\n",
      "+------------------+--------------------+---------------------+---------------------+---------------------+\n",
      "\n"
     ]
    }
   ],
   "source": [
    "# calculakting the skewness for numerical features\n",
    "df_spark.select([skewness(df_spark[column]).alias('skew: ' + column) for column in df_summary_statistics.columns]).show()"
   ]
  },
  {
   "cell_type": "code",
   "execution_count": 23,
   "id": "92b2d48c",
   "metadata": {
    "ExecuteTime": {
     "end_time": "2021-08-11T20:19:28.873332Z",
     "start_time": "2021-08-11T20:17:34.570206Z"
    }
   },
   "outputs": [
    {
     "name": "stdout",
     "output_type": "stream",
     "text": [
      "+------------------+--------------------+---------------------+---------------------+---------------------+\n",
      "|      kurt: amount|kurt: oldbalance_org|kurt: newbalance_orig|kurt: oldbalance_dest|kurt: newbalance_dest|\n",
      "+------------------+--------------------+---------------------+---------------------+---------------------+\n",
      "|1797.9552914635412|   32.96485169601807|    32.06695841776405|    948.6733789369696|    862.1558294725742|\n",
      "+------------------+--------------------+---------------------+---------------------+---------------------+\n",
      "\n"
     ]
    }
   ],
   "source": [
    "# calculating the kurtosis for numerical columns\n",
    "df_spark.select([kurtosis(df_spark[column]).alias('kurt: ' + column) for column in df_summary_statistics.columns]).show()"
   ]
  },
  {
   "cell_type": "code",
   "execution_count": 25,
   "id": "779f845c",
   "metadata": {
    "ExecuteTime": {
     "end_time": "2021-08-11T20:36:16.104681Z",
     "start_time": "2021-08-11T20:28:21.371550Z"
    }
   },
   "outputs": [
    {
     "name": "stdout",
     "output_type": "stream",
     "text": [
      "+----+----+------+---------+--------------+---------------+---------+---------------+---------------+--------+----------------+\n",
      "|step|type|amount|name_orig|oldbalance_org|newbalance_orig|name_dest|oldbalance_dest|newbalance_dest|is_fraud|is_flagged_fraud|\n",
      "+----+----+------+---------+--------------+---------------+---------+---------------+---------------+--------+----------------+\n",
      "|   0|   0|     0|        0|             0|              0|        0|              0|              0|       0|               0|\n",
      "+----+----+------+---------+--------------+---------------+---------+---------------+---------------+--------+----------------+\n",
      "\n"
     ]
    }
   ],
   "source": [
    "# checks missing data on each column\n",
    "# count(CASE WHEN isnan(column) THEN column END) => count when you find a NaN value\n",
    "df_spark.select([count(when(isnan(column), column)).alias(column) for column in df_spark.columns]).show()"
   ]
  },
  {
   "cell_type": "markdown",
   "id": "d688e26a",
   "metadata": {},
   "source": [
    "## 0.4. Data (with Pandas)"
   ]
  },
  {
   "cell_type": "code",
   "execution_count": 31,
   "id": "a5e9d1ba",
   "metadata": {
    "ExecuteTime": {
     "end_time": "2021-08-11T21:42:16.382895Z",
     "start_time": "2021-08-11T21:39:50.089706Z"
    }
   },
   "outputs": [
    {
     "data": {
      "text/html": [
       "<div>\n",
       "<style scoped>\n",
       "    .dataframe tbody tr th:only-of-type {\n",
       "        vertical-align: middle;\n",
       "    }\n",
       "\n",
       "    .dataframe tbody tr th {\n",
       "        vertical-align: top;\n",
       "    }\n",
       "\n",
       "    .dataframe thead th {\n",
       "        text-align: right;\n",
       "    }\n",
       "</style>\n",
       "<table border=\"1\" class=\"dataframe\">\n",
       "  <thead>\n",
       "    <tr style=\"text-align: right;\">\n",
       "      <th></th>\n",
       "      <th>step</th>\n",
       "      <th>type</th>\n",
       "      <th>amount</th>\n",
       "      <th>nameOrig</th>\n",
       "      <th>oldbalanceOrg</th>\n",
       "      <th>newbalanceOrig</th>\n",
       "      <th>nameDest</th>\n",
       "      <th>oldbalanceDest</th>\n",
       "      <th>newbalanceDest</th>\n",
       "      <th>isFraud</th>\n",
       "      <th>isFlaggedFraud</th>\n",
       "    </tr>\n",
       "  </thead>\n",
       "  <tbody>\n",
       "    <tr>\n",
       "      <th>0</th>\n",
       "      <td>1</td>\n",
       "      <td>PAYMENT</td>\n",
       "      <td>9839.64</td>\n",
       "      <td>C1231006815</td>\n",
       "      <td>170136.0</td>\n",
       "      <td>160296.36</td>\n",
       "      <td>M1979787155</td>\n",
       "      <td>0.0</td>\n",
       "      <td>0.0</td>\n",
       "      <td>0</td>\n",
       "      <td>0</td>\n",
       "    </tr>\n",
       "    <tr>\n",
       "      <th>1</th>\n",
       "      <td>1</td>\n",
       "      <td>PAYMENT</td>\n",
       "      <td>1864.28</td>\n",
       "      <td>C1666544295</td>\n",
       "      <td>21249.0</td>\n",
       "      <td>19384.72</td>\n",
       "      <td>M2044282225</td>\n",
       "      <td>0.0</td>\n",
       "      <td>0.0</td>\n",
       "      <td>0</td>\n",
       "      <td>0</td>\n",
       "    </tr>\n",
       "    <tr>\n",
       "      <th>2</th>\n",
       "      <td>1</td>\n",
       "      <td>TRANSFER</td>\n",
       "      <td>181.00</td>\n",
       "      <td>C1305486145</td>\n",
       "      <td>181.0</td>\n",
       "      <td>0.00</td>\n",
       "      <td>C553264065</td>\n",
       "      <td>0.0</td>\n",
       "      <td>0.0</td>\n",
       "      <td>1</td>\n",
       "      <td>0</td>\n",
       "    </tr>\n",
       "    <tr>\n",
       "      <th>3</th>\n",
       "      <td>1</td>\n",
       "      <td>CASH_OUT</td>\n",
       "      <td>181.00</td>\n",
       "      <td>C840083671</td>\n",
       "      <td>181.0</td>\n",
       "      <td>0.00</td>\n",
       "      <td>C38997010</td>\n",
       "      <td>21182.0</td>\n",
       "      <td>0.0</td>\n",
       "      <td>1</td>\n",
       "      <td>0</td>\n",
       "    </tr>\n",
       "    <tr>\n",
       "      <th>4</th>\n",
       "      <td>1</td>\n",
       "      <td>PAYMENT</td>\n",
       "      <td>11668.14</td>\n",
       "      <td>C2048537720</td>\n",
       "      <td>41554.0</td>\n",
       "      <td>29885.86</td>\n",
       "      <td>M1230701703</td>\n",
       "      <td>0.0</td>\n",
       "      <td>0.0</td>\n",
       "      <td>0</td>\n",
       "      <td>0</td>\n",
       "    </tr>\n",
       "  </tbody>\n",
       "</table>\n",
       "</div>"
      ],
      "text/plain": [
       "   step      type    amount     nameOrig  oldbalanceOrg  newbalanceOrig     nameDest  oldbalanceDest  newbalanceDest  isFraud  isFlaggedFraud\n",
       "0     1   PAYMENT   9839.64  C1231006815       170136.0       160296.36  M1979787155             0.0             0.0        0               0\n",
       "1     1   PAYMENT   1864.28  C1666544295        21249.0        19384.72  M2044282225             0.0             0.0        0               0\n",
       "2     1  TRANSFER    181.00  C1305486145          181.0            0.00   C553264065             0.0             0.0        1               0\n",
       "3     1  CASH_OUT    181.00   C840083671          181.0            0.00    C38997010         21182.0             0.0        1               0\n",
       "4     1   PAYMENT  11668.14  C2048537720        41554.0        29885.86  M1230701703             0.0             0.0        0               0"
      ]
     },
     "execution_count": 31,
     "metadata": {},
     "output_type": "execute_result"
    }
   ],
   "source": [
    "df_raw = pd.read_csv('../data/raw/raw.csv')\n",
    "df_raw.head()"
   ]
  },
  {
   "cell_type": "code",
   "execution_count": null,
   "id": "2e768b63",
   "metadata": {},
   "outputs": [],
   "source": []
  },
  {
   "cell_type": "code",
   "execution_count": null,
   "id": "f238ff48",
   "metadata": {},
   "outputs": [],
   "source": []
  },
  {
   "cell_type": "code",
   "execution_count": null,
   "id": "86dd675d",
   "metadata": {},
   "outputs": [],
   "source": []
  },
  {
   "cell_type": "code",
   "execution_count": null,
   "id": "a9d58c0f",
   "metadata": {},
   "outputs": [],
   "source": []
  },
  {
   "cell_type": "code",
   "execution_count": null,
   "id": "2fccd73c",
   "metadata": {},
   "outputs": [],
   "source": []
  },
  {
   "cell_type": "code",
   "execution_count": null,
   "id": "26e70bd9",
   "metadata": {},
   "outputs": [],
   "source": []
  },
  {
   "cell_type": "code",
   "execution_count": null,
   "id": "20985550",
   "metadata": {},
   "outputs": [],
   "source": []
  },
  {
   "cell_type": "code",
   "execution_count": null,
   "id": "d6244669",
   "metadata": {},
   "outputs": [],
   "source": []
  },
  {
   "cell_type": "code",
   "execution_count": null,
   "id": "4d94e180",
   "metadata": {},
   "outputs": [],
   "source": []
  },
  {
   "cell_type": "code",
   "execution_count": null,
   "id": "f722a878",
   "metadata": {},
   "outputs": [],
   "source": []
  }
 ],
 "metadata": {
  "kernelspec": {
   "display_name": "Python 3",
   "language": "python",
   "name": "python3"
  },
  "language_info": {
   "codemirror_mode": {
    "name": "ipython",
    "version": 3
   },
   "file_extension": ".py",
   "mimetype": "text/x-python",
   "name": "python",
   "nbconvert_exporter": "python",
   "pygments_lexer": "ipython3",
   "version": "3.9.5"
  },
  "varInspector": {
   "cols": {
    "lenName": 16,
    "lenType": 16,
    "lenVar": 40
   },
   "kernels_config": {
    "python": {
     "delete_cmd_postfix": "",
     "delete_cmd_prefix": "del ",
     "library": "var_list.py",
     "varRefreshCmd": "print(var_dic_list())"
    },
    "r": {
     "delete_cmd_postfix": ") ",
     "delete_cmd_prefix": "rm(",
     "library": "var_list.r",
     "varRefreshCmd": "cat(var_dic_list()) "
    }
   },
   "types_to_exclude": [
    "module",
    "function",
    "builtin_function_or_method",
    "instance",
    "_Feature"
   ],
   "window_display": false
  }
 },
 "nbformat": 4,
 "nbformat_minor": 5
}
